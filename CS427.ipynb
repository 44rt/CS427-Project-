{
  "cells": [
    {
      "cell_type": "code",
      "execution_count": 3,
      "id": "bfbed22c-3a4d-45e2-a5eb-5db2071def88",
      "metadata": {
        "id": "bfbed22c-3a4d-45e2-a5eb-5db2071def88",
        "outputId": "29c13ac3-7b85-488e-f4ab-d15dad20db0b",
        "colab": {
          "base_uri": "https://localhost:8080/"
        }
      },
      "outputs": [
        {
          "output_type": "stream",
          "name": "stdout",
          "text": [
            "Cloning into 'CS427-Project-'...\n",
            "remote: Enumerating objects: 37, done.\u001b[K\n",
            "remote: Counting objects: 100% (37/37), done.\u001b[K\n",
            "remote: Compressing objects: 100% (35/35), done.\u001b[K\n",
            "remote: Total 37 (delta 1), reused 37 (delta 1), pack-reused 0 (from 0)\u001b[K\n",
            "Receiving objects: 100% (37/37), 140.00 KiB | 3.41 MiB/s, done.\n",
            "Resolving deltas: 100% (1/1), done.\n",
            "Filtering content: 100% (25/25), 1.76 GiB | 58.05 MiB/s, done.\n"
          ]
        }
      ],
      "source": [
        "# Cloning GitHub Repo into colab\n",
        "!git clone https://github.com/44rt/CS427-Project-.git"
      ]
    },
    {
      "cell_type": "code",
      "source": [],
      "metadata": {
        "id": "PHlEEJyqLv7C"
      },
      "id": "PHlEEJyqLv7C",
      "execution_count": null,
      "outputs": []
    }
  ],
  "metadata": {
    "kernelspec": {
      "display_name": "Python [conda env:base] *",
      "language": "python",
      "name": "conda-base-py"
    },
    "language_info": {
      "codemirror_mode": {
        "name": "ipython",
        "version": 3
      },
      "file_extension": ".py",
      "mimetype": "text/x-python",
      "name": "python",
      "nbconvert_exporter": "python",
      "pygments_lexer": "ipython3",
      "version": "3.12.7"
    },
    "colab": {
      "provenance": []
    }
  },
  "nbformat": 4,
  "nbformat_minor": 5
}